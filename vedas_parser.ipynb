{
  "nbformat": 4,
  "nbformat_minor": 0,
  "metadata": {
    "colab": {
      "provenance": [],
      "authorship_tag": "ABX9TyO7/mOsdeu5n6bNgXK4R21+"
    },
    "kernelspec": {
      "name": "python3",
      "display_name": "Python 3"
    },
    "language_info": {
      "name": "python"
    }
  },
  "cells": [
    {
      "cell_type": "code",
      "execution_count": 2,
      "metadata": {
        "colab": {
          "base_uri": "https://localhost:8080/"
        },
        "id": "qB81pff9RQsH",
        "outputId": "698eebf3-0438-45f4-b4f1-5ad6cf078572"
      },
      "outputs": [
        {
          "output_type": "stream",
          "name": "stdout",
          "text": [
            "Mounted at /content/drive\n"
          ]
        }
      ],
      "source": [
        "from google.colab import drive\n",
        "drive.mount('/content/drive', force_remount=True)"
      ]
    },
    {
      "cell_type": "code",
      "source": [
        "import os\n",
        "\n",
        "# Path to your RAG project directory\n",
        "project_dir = \"/content/drive/MyDrive/vedas-rag\"\n",
        "\n",
        "# Create subfolders for different parts of your pipeline\n",
        "os.makedirs(f\"{project_dir}/data\", exist_ok=True)\n",
        "os.makedirs(f\"{project_dir}/chunks\", exist_ok=True)\n",
        "os.makedirs(f\"{project_dir}/embeddings\", exist_ok=True)\n",
        "os.makedirs(f\"{project_dir}/finetune\", exist_ok=True)\n"
      ],
      "metadata": {
        "id": "g0-oCRiGTA3V"
      },
      "execution_count": 3,
      "outputs": []
    },
    {
      "cell_type": "code",
      "source": [
        "with open(f\"{project_dir}/data/book1_rigveda.txt\") as file:\n",
        "  lines = file.readlines()"
      ],
      "metadata": {
        "id": "pPngHxUATm48"
      },
      "execution_count": 5,
      "outputs": []
    },
    {
      "cell_type": "code",
      "source": [
        "len(lines)"
      ],
      "metadata": {
        "colab": {
          "base_uri": "https://localhost:8080/"
        },
        "id": "nCzhI9laUi72",
        "outputId": "e82ba760-5333-4d60-f032-01974fda9438"
      },
      "execution_count": 6,
      "outputs": [
        {
          "output_type": "execute_result",
          "data": {
            "text/plain": [
              "4632"
            ]
          },
          "metadata": {},
          "execution_count": 6
        }
      ]
    },
    {
      "cell_type": "code",
      "source": [
        "import re\n",
        "import json"
      ],
      "metadata": {
        "id": "IatpUsLpV0IO"
      },
      "execution_count": 13,
      "outputs": []
    },
    {
      "cell_type": "code",
      "source": [
        "output_path = \"/content/drive/MyDrive/vedas-rag/chunks/rigveda_book1.json\""
      ],
      "metadata": {
        "id": "pJ4_QrGrZOba"
      },
      "execution_count": 10,
      "outputs": []
    },
    {
      "cell_type": "code",
      "source": [
        "hymns = []\n",
        "current_hymn = None\n",
        "\n",
        "for line in lines:\n",
        "  line = line.strip()\n",
        "\n",
        "  match = re.match(r\"HYMN\\s+([IVXLCDM]+)\\.\\s+(.+)\", line)\n",
        "  if match:\n",
        "    if current_hymn:\n",
        "      hymns.append(current_hymn)\n",
        "\n",
        "    roman = match.group(1)\n",
        "    deity = match.group(2)\n",
        "    number = len(hymns) + 1\n",
        "    id_str = f\"rigveda-{number}-{deity.lower().replace(' ', '_')}\"\n",
        "\n",
        "    current_hymn = {\n",
        "        \"id\": id_str,\n",
        "        \"title\": line,\n",
        "        \"veda\": \"Rig Veda\",\n",
        "        \"book\": 1,\n",
        "        \"hymn_number\": roman,\n",
        "        \"deity\": deity,\n",
        "        \"verses\": []\n",
        "    }\n",
        "    continue\n",
        "  if current_hymn and line:\n",
        "    # Remove leading verse number if present\n",
        "    clean_line = re.sub(r\"^\\d{1,2}\\s+\", \"\", line).strip()\n",
        "    if clean_line:\n",
        "        current_hymn[\"verses\"].append(clean_line)\n",
        "\n",
        "# Add last hymn\n",
        "if current_hymn:\n",
        "  hymns.append(current_hymn)"
      ],
      "metadata": {
        "id": "CS5ASNc8Uoe3"
      },
      "execution_count": 11,
      "outputs": []
    },
    {
      "cell_type": "code",
      "source": [
        "hymns[0]"
      ],
      "metadata": {
        "colab": {
          "base_uri": "https://localhost:8080/"
        },
        "id": "s2VARF-MYTg6",
        "outputId": "0d3e4227-877f-41c1-9246-58d8690e09f5"
      },
      "execution_count": 12,
      "outputs": [
        {
          "output_type": "execute_result",
          "data": {
            "text/plain": [
              "{'id': 'rigveda-1-agni.',\n",
              " 'title': 'HYMN I. Agni.',\n",
              " 'veda': 'Rig Veda',\n",
              " 'book': 1,\n",
              " 'hymn_number': 'I',\n",
              " 'deity': 'Agni.',\n",
              " 'verses': ['I Laud Agni, the chosen Priest, God, minister of sacrifice,',\n",
              "  'The hotar, lavishest of wealth.',\n",
              "  'Worthy is Agni to be praised by living as by ancient seers.',\n",
              "  'He shall bring hitherward the Gods.',\n",
              "  'Through Agni man obtaineth wealth, yea, plenty waxing day by day,',\n",
              "  'Most rich in heroes, glorious.',\n",
              "  'Agni, the perfect sacrifice which thou encompassest about',\n",
              "  'Verily goeth to the Gods.',\n",
              "  'May Agni, sapient-minded Priest, truthful, most gloriously great,',\n",
              "  'The God, come hither with the Gods.',\n",
              "  'Whatever blessing, Agni, thou wilt grant unto thy worshipper,',\n",
              "  'That, Aṅgiras, is indeed thy truth.',\n",
              "  'To thee, dispeller of the night, O Agni, day by day with prayer',\n",
              "  'Bringing thee reverence, we come',\n",
              "  'Ruler of sacrifices, guard of Law eternal, radiant One,',\n",
              "  'Increasing in thine own abode.',\n",
              "  'Be to us easy of approach, even as a father to his son:',\n",
              "  'Agni, be with us for our weal.']}"
            ]
          },
          "metadata": {},
          "execution_count": 12
        }
      ]
    },
    {
      "cell_type": "code",
      "source": [
        "# Save to JSON\n",
        "with open(output_path, \"w\") as f:\n",
        "    json.dump(hymns, f, indent=2)"
      ],
      "metadata": {
        "id": "VR-neR0jYWvp"
      },
      "execution_count": 14,
      "outputs": []
    },
    {
      "cell_type": "code",
      "source": [],
      "metadata": {
        "id": "d_Xxk3VbaOaN"
      },
      "execution_count": null,
      "outputs": []
    }
  ]
}